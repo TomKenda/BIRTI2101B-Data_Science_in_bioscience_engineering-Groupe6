{
 "cells": [
  {
   "cell_type": "code",
   "execution_count": 2,
   "metadata": {},
   "outputs": [],
   "source": [
    "#Nettoyer un ficher texte pour le lire après\n",
    "\n",
    "filename =\"test.txt\"\n",
    "def txt_propre(filename, new=\"test.txt\"):\n",
    "    f1 = open(filename, \"r\")\n",
    "    lines = f1.readlines()\n",
    "    f1.close()\n",
    "    f2 = open(new, \"w\")\n",
    "    for l in lines:\n",
    "        f2.write(l.strip())\n",
    "    else:\n",
    "        f2.close()\n",
    "    return True"
   ]
  },
  {
   "cell_type": "code",
   "execution_count": null,
   "metadata": {},
   "outputs": [],
   "source": []
  },
  {
   "cell_type": "code",
   "execution_count": 3,
   "metadata": {},
   "outputs": [],
   "source": [
    "# Fonctions utiles\n",
    "\n",
    "def translate_complement(Sequence):\n",
    "    # takes a string of ACTG and returns the complementary code\n",
    "    newSequence = \"\"\n",
    "    for letter in Sequence:\n",
    "        if letter == \"A\":\n",
    "            newSequence += \"T\"\n",
    "        elif letter == \"T\":\n",
    "            newSequence += \"A\"\n",
    "        elif letter == \"C\":\n",
    "            newSequence += \"G\"\n",
    "        elif letter == \"G\":\n",
    "            newSequence += \"C\"\n",
    "        else:\n",
    "            print(\"Error : unrecognized character \" ,letter)\n",
    "    return newSequence\n",
    "\n",
    "def invert_string(txt):\n",
    "    return txt[::-1]\n",
    "\n",
    "def complement(Sequence):\n",
    "    return invert_string(translate_complement(Sequence))\n"
   ]
  },
  {
   "cell_type": "code",
   "execution_count": 4,
   "metadata": {},
   "outputs": [],
   "source": [
    "#Extraire tous les ORF\n",
    "\n",
    "def openchrfile(filename):\n",
    "    chromosomef = open(filename,\"r\")\n",
    "    chromosome = chromosomef.read()\n",
    "    chromosomef.close()\n",
    "    return chromosome\n",
    "\n",
    "def extract_ORFs(pluschromosome):\n",
    "    # in : string of DNA\n",
    "    # out : List of all sequences between start and stop codons for normal and reverse sequences\n",
    "    minuschromosome = complement(pluschromosome)\n",
    "    reading = False\n",
    "    List = []\n",
    "    for chromosome in [pluschromosome, minuschromosome]:\n",
    "        print(\"length :\",len(chromosome))\n",
    "        c= 0\n",
    "        for i in range(len(chromosome)-4):  \n",
    "            if chromosome[i] == \"A\" and chromosome[i+1] == \"T\" and chromosome[i+2] == \"G\":\n",
    "                reading = True\n",
    "                j = 0\n",
    "                gene = []\n",
    "                while reading == True:\n",
    "                    if chromosome[i+j:i+j+3] == \"TAG\" or chromosome[i+j:i+j+3] == \"TGA\" or chromosome[i+j:i+j+3] == \"TAA\":\n",
    "                        reading = False\n",
    "                        gene = chromosome[i:i+j+3]\n",
    "                        List.append(gene)\n",
    "                        c+=1\n",
    "                    elif i+j-3 > len(chromosome):\n",
    "                        reading = False\n",
    "                    j += 3\n",
    "        print( \"extract_ORFs: found\", c, \"ORFs in sequence\")\n",
    "    return List"
   ]
  },
  {
   "cell_type": "code",
   "execution_count": 5,
   "metadata": {},
   "outputs": [],
   "source": [
    "#Elimine les ORF plus petits qu'une certaine valeur\n",
    "\n",
    "def threshold_orf(List, threshold):\n",
    "    # Takes a list of ORFs and outputs a list of ORFs without those shorter than threshold value\n",
    "\n",
    "    Newlist = []\n",
    "    for sequence in List:\n",
    "        if len(sequence) >= threshold:\n",
    "            Newlist.append(sequence)\n",
    "    print(\"threshold_ORFs:\",len(Newlist) , \"ORFs above\", threshold, \"bp length, out of\", len(List),\"initial list\")\n",
    "    \n",
    "    return Newlist\n",
    "        \n",
    "    "
   ]
  },
  {
   "cell_type": "code",
   "execution_count": 6,
   "metadata": {},
   "outputs": [],
   "source": [
    "def getsequence(start,stop,chro):\n",
    "    #returns the the part of a string between start and stop values of a longer string\n",
    "    return chro[start-1:stop]\n"
   ]
  },
  {
   "cell_type": "code",
   "execution_count": 7,
   "metadata": {},
   "outputs": [],
   "source": [
    "def extract_genes(filename,chromosome):\n",
    "# in : .csv file of gene list from geneviewer containing gene indices \n",
    "# in2: a string from which gene sequences will be extracted\n",
    "# out : vector of lists of + and - gene sequences\n",
    "\n",
    "    fileindexes = open(filename,'r')\n",
    "    fileIndexes = fileindexes.readlines()\n",
    "    fileindexes.close()\n",
    "\n",
    "    #remove the 2 first lines (useless)\n",
    "    geneList = []\n",
    "    for line in fileIndexes[2:]:\n",
    "        new = line.split(\",\")\n",
    "        geneList.append(new[:-1])\n",
    "    #genelist (Name , start, stop , name, +- , ?)\n",
    "    p=0\n",
    "    m=0\n",
    "    seqgeneList = []\n",
    "    for gene in geneList:\n",
    "        if gene[4] == 'plus':\n",
    "            seqgeneList.append(getsequence(int(gene[1]),int(gene[2]),chromosome))\n",
    "            p += 1\n",
    "        if gene[4] == 'minus':     \n",
    "            seqgeneList.append(complement(getsequence(int(gene[1]),int(gene[2]),chromosome)))\n",
    "            m += 1\n",
    "    print (\"extract_genes:\",p, \"plus and\",m , \"minus genes found\")\n",
    "    return seqgeneList\n",
    "\n",
    "#print(chr1geneList[58])"
   ]
  },
  {
   "cell_type": "code",
   "execution_count": 8,
   "metadata": {},
   "outputs": [],
   "source": [
    "def seqGeneMatch(ORFList,GeneList):\n",
    "    # returns a dictionnary in which every sequence is labeled as \"gene\" if found in the Genelist, else \"noise\"\n",
    "    seqDictionnary = {}\n",
    "    c = 0\n",
    "    d = 0\n",
    "    repeats = {}\n",
    "    for seq in ORFList:\n",
    "        for gene in GeneList:\n",
    "            if seq == gene:\n",
    "                seqDictionnary[seq] = \"gene\"\n",
    "                c += 1\n",
    "                break\n",
    "            else:\n",
    "                seqDictionnary[seq] = \"noise\"\n",
    "    print(\"From a list of \", len(ORFList), \"ORFs, we found \" , c , \" genes out of a library of\", len(GeneList), \"genes, and \",\"?\", \"were genes found more than once\")\n",
    "    return seqDictionnary, c\n",
    "\n",
    "\n"
   ]
  },
  {
   "cell_type": "code",
   "execution_count": 9,
   "metadata": {},
   "outputs": [
    {
     "name": "stdout",
     "output_type": "stream",
     "text": [
      "length : 230218\n",
      "extract_ORFs: found 4297 ORFs in sequence\n",
      "length : 230218\n",
      "extract_ORFs: found 4265 ORFs in sequence\n",
      "threshold_ORFs: 5778 ORFs above 30 bp length, out of 8562 initial list\n",
      "extract_genes: 55 plus and 46 minus genes found\n",
      "From a list of  5778 ORFs, we found  91  genes out of a library of 101 genes, and  ? were genes found more than once\n"
     ]
    }
   ],
   "source": [
    "def labelledDatafromfile(CrudeChromosomeFile,CSVindicesFile):\n",
    "    txt_propre(CrudeChromosomeFile, \"chr.txt\")\n",
    "    pluschromosome = openchrfile(\"chr.txt\")\n",
    "    orfList = extract_ORFs(pluschromosome)\n",
    "    orfList = threshold_orf(orfList,30)\n",
    "    geneList = extract_genes(CSVindicesFile,pluschromosome)\n",
    "    return seqGeneMatch(orfList,geneList)\n",
    "\n",
    "data,size = labelledDatafromfile(\"test.txt\",\"genechr1.csv\")"
   ]
  },
  {
   "cell_type": "code",
   "execution_count": 10,
   "metadata": {},
   "outputs": [],
   "source": [
    "def createlibrary(data,size):\n",
    "    # takes dictionnary and outputs two vectors ready for Deeplearning\n",
    "    sequences = []\n",
    "    labels = []\n",
    "    for seq in data.keys():\n",
    "        if data[seq] == \"gene\":\n",
    "            sequences.append(seq)\n",
    "            labels.append(data[seq])\n",
    "    n=0\n",
    "    for seq in data.keys():\n",
    "        if n>size:\n",
    "            break\n",
    "        elif label == \"noise\":\n",
    "            n += 1\n",
    "            sequences.append(seq)\n",
    "            labels.append(label)\n",
    "    \n",
    "    return sequences, labels\n"
   ]
  },
  {
   "cell_type": "code",
   "execution_count": 11,
   "metadata": {},
   "outputs": [
    {
     "name": "stdout",
     "output_type": "stream",
     "text": [
      "length : 813184\n",
      "extract_ORFs: found 14458 ORFs in sequence\n",
      "length : 813184\n",
      "extract_ORFs: found 15352 ORFs in sequence\n",
      "threshold_ORFs: 19833 ORFs above 30 bp length, out of 29810 initial list\n",
      "extract_genes: 203 plus and 228 minus genes found\n",
      "From a list of  19833 ORFs, we found  385  genes out of a library of 431 genes, and  ? were genes found more than once\n"
     ]
    },
    {
     "ename": "NameError",
     "evalue": "name 'label' is not defined",
     "output_type": "error",
     "traceback": [
      "\u001b[1;31m---------------------------------------------------------------------------\u001b[0m",
      "\u001b[1;31mNameError\u001b[0m                                 Traceback (most recent call last)",
      "\u001b[1;32m<ipython-input-11-d2534a96f621>\u001b[0m in \u001b[0;36m<module>\u001b[1;34m\u001b[0m\n\u001b[0;32m     15\u001b[0m     \u001b[0mf\u001b[0m\u001b[1;33m.\u001b[0m\u001b[0mclose\u001b[0m\u001b[1;33m(\u001b[0m\u001b[1;33m)\u001b[0m\u001b[1;33m\u001b[0m\u001b[1;33m\u001b[0m\u001b[0m\n\u001b[0;32m     16\u001b[0m \u001b[1;33m\u001b[0m\u001b[0m\n\u001b[1;32m---> 17\u001b[1;33m \u001b[0mtreatdata\u001b[0m\u001b[1;33m(\u001b[0m\u001b[1;33m)\u001b[0m\u001b[1;33m\u001b[0m\u001b[1;33m\u001b[0m\u001b[0m\n\u001b[0m",
      "\u001b[1;32m<ipython-input-11-d2534a96f621>\u001b[0m in \u001b[0;36mtreatdata\u001b[1;34m()\u001b[0m\n\u001b[0;32m      6\u001b[0m         \u001b[0mb\u001b[0m \u001b[1;33m=\u001b[0m \u001b[1;34m\"Genes_\"\u001b[0m \u001b[1;33m+\u001b[0m \u001b[0mstr\u001b[0m\u001b[1;33m(\u001b[0m\u001b[0mi\u001b[0m\u001b[1;33m+\u001b[0m\u001b[1;36m2\u001b[0m\u001b[1;33m)\u001b[0m \u001b[1;33m+\u001b[0m \u001b[1;34m\".csv\"\u001b[0m\u001b[1;33m\u001b[0m\u001b[1;33m\u001b[0m\u001b[0m\n\u001b[0;32m      7\u001b[0m         \u001b[0mdata\u001b[0m\u001b[1;33m,\u001b[0m \u001b[0msize\u001b[0m \u001b[1;33m=\u001b[0m \u001b[0mlabelledDatafromfile\u001b[0m\u001b[1;33m(\u001b[0m\u001b[0ma\u001b[0m\u001b[1;33m,\u001b[0m\u001b[0mb\u001b[0m\u001b[1;33m)\u001b[0m\u001b[1;33m\u001b[0m\u001b[1;33m\u001b[0m\u001b[0m\n\u001b[1;32m----> 8\u001b[1;33m         \u001b[0msequences\u001b[0m \u001b[1;33m,\u001b[0m \u001b[0mlabels\u001b[0m \u001b[1;33m=\u001b[0m \u001b[0mcreatelibrary\u001b[0m\u001b[1;33m(\u001b[0m\u001b[0mdata\u001b[0m\u001b[1;33m,\u001b[0m\u001b[0msize\u001b[0m\u001b[1;33m)\u001b[0m\u001b[1;33m\u001b[0m\u001b[1;33m\u001b[0m\u001b[0m\n\u001b[0m\u001b[0;32m      9\u001b[0m         \u001b[0mListSequences\u001b[0m \u001b[1;33m+=\u001b[0m \u001b[0msequences\u001b[0m\u001b[1;33m\u001b[0m\u001b[1;33m\u001b[0m\u001b[0m\n\u001b[0;32m     10\u001b[0m         \u001b[0mListLabels\u001b[0m \u001b[1;33m+=\u001b[0m \u001b[0mlabels\u001b[0m\u001b[1;33m\u001b[0m\u001b[1;33m\u001b[0m\u001b[0m\n",
      "\u001b[1;32m<ipython-input-10-8389584a1afa>\u001b[0m in \u001b[0;36mcreatelibrary\u001b[1;34m(data, size)\u001b[0m\n\u001b[0;32m     11\u001b[0m         \u001b[1;32mif\u001b[0m \u001b[0mn\u001b[0m\u001b[1;33m>\u001b[0m\u001b[0msize\u001b[0m\u001b[1;33m:\u001b[0m\u001b[1;33m\u001b[0m\u001b[1;33m\u001b[0m\u001b[0m\n\u001b[0;32m     12\u001b[0m             \u001b[1;32mbreak\u001b[0m\u001b[1;33m\u001b[0m\u001b[1;33m\u001b[0m\u001b[0m\n\u001b[1;32m---> 13\u001b[1;33m         \u001b[1;32melif\u001b[0m \u001b[0mlabel\u001b[0m \u001b[1;33m==\u001b[0m \u001b[1;34m\"noise\"\u001b[0m\u001b[1;33m:\u001b[0m\u001b[1;33m\u001b[0m\u001b[1;33m\u001b[0m\u001b[0m\n\u001b[0m\u001b[0;32m     14\u001b[0m             \u001b[0mn\u001b[0m \u001b[1;33m+=\u001b[0m \u001b[1;36m1\u001b[0m\u001b[1;33m\u001b[0m\u001b[1;33m\u001b[0m\u001b[0m\n\u001b[0;32m     15\u001b[0m             \u001b[0msequences\u001b[0m\u001b[1;33m.\u001b[0m\u001b[0mappend\u001b[0m\u001b[1;33m(\u001b[0m\u001b[0mseq\u001b[0m\u001b[1;33m)\u001b[0m\u001b[1;33m\u001b[0m\u001b[1;33m\u001b[0m\u001b[0m\n",
      "\u001b[1;31mNameError\u001b[0m: name 'label' is not defined"
     ]
    }
   ],
   "source": [
    "def treatdata():\n",
    "    ListSequences = []\n",
    "    ListLabels = []\n",
    "    for i  in range(15):\n",
    "        a = \"propre_chr_\" + str(i+2) +\".txt\"\n",
    "        b = \"Genes_\" + str(i+2) + \".csv\"\n",
    "        data, size = labelledDatafromfile(a,b)\n",
    "        sequences , labels = createlibrary(data,size)\n",
    "        ListSequences += sequences\n",
    "        ListLabels += labels\n",
    "        \n",
    "    f = open(\"dataTrain.txt\", 'w')\n",
    "    for i in range(len(ListSequences)):\n",
    "        f.write(ListSequences[i] + \",\" + ListLabels[i] + \"\\n\")\n",
    "    f.close()\n",
    "        \n",
    "treatdata()     "
   ]
  },
  {
   "cell_type": "code",
   "execution_count": null,
   "metadata": {},
   "outputs": [],
   "source": []
  }
 ],
 "metadata": {
  "kernelspec": {
   "display_name": "Python [conda env:tensorflowCPU] *",
   "language": "python",
   "name": "conda-env-tensorflowCPU-py"
  },
  "language_info": {
   "codemirror_mode": {
    "name": "ipython",
    "version": 3
   },
   "file_extension": ".py",
   "mimetype": "text/x-python",
   "name": "python",
   "nbconvert_exporter": "python",
   "pygments_lexer": "ipython3",
   "version": "3.7.9"
  }
 },
 "nbformat": 4,
 "nbformat_minor": 4
}
