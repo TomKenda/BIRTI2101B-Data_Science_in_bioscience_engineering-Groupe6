{
 "cells": [
  {
   "cell_type": "code",
   "execution_count": 87,
   "metadata": {},
   "outputs": [],
   "source": [
    "# Version 2 de test_jupyter\n",
    "# Pour différencier des séquences orfs (orf ou gène) de séquences random \n",
    "# Fichier de données : another_try.txt\n",
    "#  -> toutes les sequences ont une longueur de 300 nucleotides de long\n",
    "#  -> les sequences orfs sont ___,gene\n",
    "#  -> les sequences random sont ___,noise\n",
    "# ! ne contient que 446 sequences (223 de chaque)\n"
   ]
  },
  {
   "cell_type": "code",
   "execution_count": 88,
   "metadata": {},
   "outputs": [],
   "source": [
    "# General import\n",
    "import os\n",
    "\n",
    "# TensorFlow and tf.keras\n",
    "import tensorflow as tf\n",
    "from tensorflow import keras\n",
    "\n",
    "# Helper libraries\n",
    "import numpy as np\n",
    "import matplotlib.pyplot as plt\n",
    "import random\n"
   ]
  },
  {
   "cell_type": "code",
   "execution_count": 89,
   "metadata": {},
   "outputs": [],
   "source": [
    "# Charger les données depuis la database\n",
    "os.chdir(\"/Users/lalou/Desktop/DNA_Sequencing\")\n",
    "file = open(\"another_try.txt\", 'r')\n",
    "# file = open(\"data.txt\", 'r')\n",
    "lines = file.readlines()\n",
    "file.close()\n",
    "\n",
    "# Le fichier another_try.txt contient 446 sequences de 300 nucleotides de long dont :\n",
    "#    - 226 orfs\n",
    "#    - 226 non-orfs (créés avec un random.choice(['A', 'T', 'C', 'G']))\n",
    "# Les lignes 'genes' sont les orfs\n",
    "# et les lignes 'noise' sont les non-orfs\n"
   ]
  },
  {
   "cell_type": "code",
   "execution_count": 90,
   "metadata": {},
   "outputs": [],
   "source": [
    "# Vecteurs contenant les donnees\n",
    "l_used = len(lines)\n",
    "\n",
    "seq = [line.strip().split(\",\")[0] for line in lines][0:l_used]\n",
    "lab = [line.strip().split(\",\")[1] for line in lines][0:l_used]\n",
    "labs = []\n",
    "for i in lab:\n",
    "    if i == \"noise\":\n",
    "        labs.append(0)\n",
    "    else:\n",
    "        labs.append(1)\n",
    "\n",
    "# Longueur de la plus longue séquence\n",
    "m1 = max([len(i) for i in seq])\n"
   ]
  },
  {
   "cell_type": "code",
   "execution_count": 91,
   "metadata": {},
   "outputs": [],
   "source": [
    "# Fonctions de transformation des donnees\n",
    "def nucl_to_numb(letter):\n",
    "    if letter == \"A\":\n",
    "        return [1, 0, 0, 0]\n",
    "    elif letter == \"T\":\n",
    "        return [0, 1, 0, 0]\n",
    "    elif letter == \"G\":\n",
    "        return [0, 0, 1, 0]\n",
    "    elif letter == \"C\":\n",
    "        return [0, 0, 0, 1]\n",
    "    else:\n",
    "        print(\"aie\", letter)\n",
    "        return False\n",
    "    \n",
    "def seq_to_vec(sequence, l_max=m1):\n",
    "    n = []\n",
    "    for nucl in sequence:\n",
    "        n.append(nucl_to_numb(nucl))\n",
    "    while len(n) < m1:\n",
    "        # n.append([0.25, 0.25, 0.25, 0.25])\n",
    "        # n.append([0.00, 0.00, 0.00, 0.00])\n",
    "        n.append([0.125, 0.125, 0.125, 0.125])\n",
    "    return n\n",
    "\n",
    "def vec_to_seq(array):\n",
    "    n = \"\"\n",
    "    for vec in array:\n",
    "        if vec[0] == 1:\n",
    "            n += \"A\"\n",
    "        elif vec[1] == 1:\n",
    "            n += \"T\"\n",
    "        elif vec[2] == 1:\n",
    "            n += \"G\"\n",
    "        elif vec[3] == 1:\n",
    "            n += \"C\"\n",
    "        elif vec[0] == 0.25:\n",
    "            return n\n",
    "        else:\n",
    "            print(\"aie\")\n",
    "    else:\n",
    "        return n"
   ]
  },
  {
   "cell_type": "code",
   "execution_count": 92,
   "metadata": {},
   "outputs": [],
   "source": [
    "# Randomisation : chgmt ordre des sequences\n",
    "index = [i for i in range(len(seq))]\n",
    "random.shuffle(index)\n",
    "seq = [seq[i] for i in index]\n",
    "labs = [labs[i] for i in index]\n"
   ]
  },
  {
   "cell_type": "code",
   "execution_count": 93,
   "metadata": {},
   "outputs": [],
   "source": [
    "# Nom des classes\n",
    "class_names = ['random', 'orf']\n"
   ]
  },
  {
   "cell_type": "code",
   "execution_count": 94,
   "metadata": {},
   "outputs": [],
   "source": [
    "# Configuration des couches\n",
    "model = keras.Sequential([\n",
    "    keras.layers.Flatten(),\n",
    "    keras.layers.Dense(128, activation='relu'),\n",
    "    keras.layers.Dense(128, activation='relu'),\n",
    "    keras.layers.Dense(2)])\n",
    "\n",
    "# keras.layers.Dense(128, activation='relu'),"
   ]
  },
  {
   "cell_type": "code",
   "execution_count": 95,
   "metadata": {},
   "outputs": [],
   "source": [
    "#  Compilation du modèle\n",
    "model.compile(optimizer='adam',\n",
    "              loss=tf.keras.losses.SparseCategoricalCrossentropy(from_logits=True),\n",
    "              metrics=['accuracy'])\n",
    "# Loss()\n"
   ]
  },
  {
   "cell_type": "code",
   "execution_count": 96,
   "metadata": {},
   "outputs": [
    {
     "name": "stdout",
     "output_type": "stream",
     "text": [
      "300\n",
      "Epoch 1/2\n",
      "36/36 [==============================] - 0s 1ms/step - loss: 0.6241 - accuracy: 0.6124\n",
      "Epoch 2/2\n",
      "36/36 [==============================] - 0s 1ms/step - loss: 0.1268 - accuracy: 0.9691\n"
     ]
    }
   ],
   "source": [
    "print(m1)\n",
    "\n",
    "# Peu de données, apprentissage classique en une fois\n",
    "\n",
    "#nbre = 6\n",
    "#qtty = 50\n",
    "#for i in range(nbre):\n",
    "#    start = i*qtty\n",
    "#    stop = (i+1)*qtty\n",
    "#    seqs = [seq_to_vec(j) for j in seq[start:stop]]\n",
    "#    array_seq = np.array(seqs)\n",
    "#    array_seq.reshape(-1, qtty, 4)\n",
    "#    array_lab = np.array(labs[start:stop])\n",
    "##    array_lab.reshape(-1, 2, qtty)\n",
    "#    \n",
    "#    model.fit(array_seq, array_lab, epochs=3, batch_size=5)\n",
    "#    \n",
    "#    print(\"Avancée :\", int(100*(i+1)/nbre), \"%\")\n",
    "    \n",
    "seqs = [seq_to_vec(j) for j in seq]\n",
    "# Conversion en numpy Arrays\n",
    "seqs_array = np.array(seqs)\n",
    "seqs_array.reshape(-1,l_used,4)\n",
    "labs_array = np.array(labs)\n",
    "\n",
    "# Entrainer le modele\n",
    "l_bis = int(0.8*l_used)\n",
    "model.fit(seqs_array[0:l_bis], labs_array[0:l_bis], epochs=2, batch_size=10)\n",
    "\n",
    "last_seqs = seqs_array[l_bis:]\n",
    "last_labs = labs_array[l_bis:]"
   ]
  },
  {
   "cell_type": "code",
   "execution_count": 97,
   "metadata": {},
   "outputs": [
    {
     "name": "stdout",
     "output_type": "stream",
     "text": [
      "3/3 [==============================] - 0s 998us/step - loss: 0.1329 - accuracy: 0.9667\n"
     ]
    }
   ],
   "source": [
    "# Evaluer précision du modèle     \n",
    "test_loss, test_acc = model.evaluate(last_seqs,  last_labs, verbose=1)\n",
    "# print('\\nTest accuracy:', test_acc)\n"
   ]
  },
  {
   "cell_type": "code",
   "execution_count": 98,
   "metadata": {},
   "outputs": [
    {
     "name": "stdout",
     "output_type": "stream",
     "text": [
      "[[0.11980672 0.8801933 ]\n",
      " [0.9470288  0.0529712 ]\n",
      " [0.4165035  0.5834966 ]] [1 0 1]\n"
     ]
    }
   ],
   "source": [
    "# Prédictions\n",
    "probability_model = tf.keras.Sequential([model, tf.keras.layers.Softmax()])\n",
    "predictions = probability_model.predict(last_seqs)\n",
    "print(predictions[0:3], last_labs[0:3])\n"
   ]
  },
  {
   "cell_type": "code",
   "execution_count": 104,
   "metadata": {},
   "outputs": [
    {
     "name": "stdout",
     "output_type": "stream",
     "text": [
      "ATGTCTTATTTTGCAGATATAAACTTTAGTACTTTGAGGTCAATGATCCCGCCTTTTACACCCCAACTAGACAGCGAAACTGATGCCGGTTATTTTGATGACTTCACCAGTGAGGCTGACATGGCCAAATATGCTGATGTTTTCAAAAGACAAGACAAATTAACGGCTATGGTAGATGACTCGGCAGTATCATCAAAACTTGTTGGGTTCACTTTCCGACATAGAAATGGTAAACAGGGTTCCAGTGGCATCTTATTCAACGGACTGGAACACTCAGACCCCTTTTCAACCTTTTACTAG\n"
     ]
    }
   ],
   "source": [
    "print(vec_to_seq(last_seqs[2]))"
   ]
  },
  {
   "cell_type": "code",
   "execution_count": 100,
   "metadata": {},
   "outputs": [],
   "source": [
    "# Voir les prédictions\n",
    "\n",
    "results = [[vec_to_seq(last_seqs[i]), last_labs[i], predictions[i][last_labs[i]]] for i in range(len(predictions))]\n",
    "\n",
    "false = []\n",
    "true = [x if x[2] > 0.5 else false.append(x) for x in results]\n",
    "while None in true:\n",
    "    true.remove(None)\n",
    "    \n",
    "f_len = [[len(i[0]), i[1]] for i in false]\n",
    "t_len = [[len(i[0]), i[1]] for i in true]\n",
    "\n",
    "# print(false)"
   ]
  },
  {
   "cell_type": "code",
   "execution_count": 101,
   "metadata": {},
   "outputs": [
    {
     "name": "stdout",
     "output_type": "stream",
     "text": [
      "3 / 90  : badly predicted sequences\n",
      "2 / 3  : gene predicted while orf (orange)\n",
      "1 / 3  : orf predicted while gene (magenta)\n"
     ]
    }
   ],
   "source": [
    "# Longueur des sequences qui ont ete incorrectement predites\n",
    "lenf = [i[0] for i in f_len]\n",
    "labf = [i[1] for i in f_len]\n",
    "lf1, lf2 = [], []\n",
    "for i in range(len(labf)):\n",
    "    if labf[i] == 0:\n",
    "        lf1.append(lenf[i])\n",
    "    else:\n",
    "        lf2.append(lenf[i])\n",
    "\n",
    "# Graphe inutile car toutes les sequences ont exactement la meme longueur\n",
    "#plt.figure(\"False Predictions\")\n",
    "#plt.plot(lf1, color='orange')\n",
    "#plt.plot(lf2, color='magenta')\n",
    "#plt.show()\n",
    "\n",
    "print(len(f_len), \"/\", len(results), \" : badly predicted sequences\")\n",
    "print(len(lf1), \"/\", len(lenf), \" : gene predicted while orf (orange)\")\n",
    "print(len(lf2), \"/\", len(lenf), \" : orf predicted while gene (magenta)\")"
   ]
  },
  {
   "cell_type": "code",
   "execution_count": 102,
   "metadata": {
    "scrolled": true
   },
   "outputs": [
    {
     "name": "stdout",
     "output_type": "stream",
     "text": [
      "87 / 90  : well predicted sequences\n",
      "   -->  45  : well predicted orf (green)\n",
      "   -->  42  : well predicted gene (blue)\n"
     ]
    }
   ],
   "source": [
    "# Longueur des sequences qui ont ete correctement predites\n",
    "lent = [i[0] for i in t_len]\n",
    "labt = [i[1] for i in t_len]\n",
    "lt1, lt2 = [], []\n",
    "for i in range(len(labt)):\n",
    "    if labt[i] == 0:\n",
    "        lt1.append(lent[i]) # orfs\n",
    "    else:\n",
    "        lt2.append(lent[i]) # genes\n",
    "\n",
    "# Graphe inutile car toutes les sequences ont exactement la meme longueur\n",
    "#plt.figure(\"True Predictions\")\n",
    "#plt.plot(sorted(lt1, reverse=False), color='green')\n",
    "#plt.plot(sorted(lt2, reverse=True), color='blue')\n",
    "#plt.show()\n",
    "\n",
    "print(len(t_len), \"/\", len(results), \" : well predicted sequences\")\n",
    "\n",
    "print(\"   --> \", len(lt1), \" : well predicted orf (green)\")\n",
    "print(\"   --> \", len(lt2), \" : well predicted gene (blue)\")\n",
    "\n",
    "# print(len(lt1), \"/\", len(lent), \" : well predicted orf (green)\")\n",
    "# print(len(lt2), \"/\", len(lent), \" : well predicted gene (blue)\")"
   ]
  },
  {
   "cell_type": "code",
   "execution_count": 137,
   "metadata": {},
   "outputs": [
    {
     "data": {
      "text/plain": [
       "<Figure size 432x288 with 0 Axes>"
      ]
     },
     "metadata": {},
     "output_type": "display_data"
    },
    {
     "data": {
      "image/png": "[encoded data removed]",
      "text/plain": [
       "<Figure size 288x1152 with 2 Axes>"
      ]
     },
     "metadata": {
      "needs_background": "light"
     },
     "output_type": "display_data"
    },
    {
     "name": "stdout",
     "output_type": "stream",
     "text": [
      "Séquences 'prédite' : \n",
      "ATGGCTCCCGATACTCTGATGCTAGTAAAGTCAGGTGCCACGAGAAATCGTATAGGTGTGAAAAAGGAGGTTAGGACCTTACTCGATAAAACTTAAAAGATCAATAAAGTGTTTATAAAGTTATATTTTCTACTGCTGATTGAGCTTCATACAGGTGCCGAATGTAATACGAGCAGTTTCCTAGCCACAATTACAGACCCGCCATTTTCTCATGACAAATATAAAGTGACGCTGGTTTTTCAAGAGCGCCCTTGGTATCTAAAATTACCCGCTACTCTAAACAACAGTACCAAATTTTAA\n"
     ]
    }
   ],
   "source": [
    "# model.summary()\n",
    "x = model.trainable_variables\n",
    "# print(x)\n",
    "\n",
    "\n",
    "def get_bias():\n",
    "    x = model.trainable_variables\n",
    "    bias = []\n",
    "    for i in range(len(x)):\n",
    "        if i % 2 != 0:\n",
    "            bias.append(x[i].numpy())\n",
    "    return bias\n",
    "\n",
    "def get_params():\n",
    "    x = model.trainable_variables\n",
    "    params = []\n",
    "    for i in range(len(x)):\n",
    "        if i % 2 == 0:\n",
    "            params.append(x[i].numpy())\n",
    "    return params\n",
    "\n",
    "def get_structure():\n",
    "    p = get_params()\n",
    "    struct = [i for i in p[0].shape]\n",
    "    for i in p[1:]:\n",
    "        struct += [i.shape[1]]\n",
    "    return struct\n",
    "\n",
    "def relu_inv(y, bias = 0):\n",
    "    # y = max(0, x+bias)\n",
    "    x = y-bias\n",
    "    if x < 0:\n",
    "        # ?\n",
    "        return 0\n",
    "    return x\n",
    "\n",
    "def aggregate_inv(x_out, weights):\n",
    "    # x_out = [0, 1]                     de la couche suivante\n",
    "    # weights = [...].shape = (4, 2)     entre les deux couches\n",
    "    # return [sum([w_i[j]*x_out[j] for j in range(len(x_out))]) for w_i in weights]\n",
    "    a_in = []\n",
    "    for w_i in weights:\n",
    "        products = [w_i[j]*x_out[j] for j in range(len(x_out))]\n",
    "        a_in.append(sum(products))\n",
    "    return a_in    \n",
    "\n",
    "def normalize(vector):\n",
    "    # s = max(vector)\n",
    "    # s = max(max(vector), abs(min(vector)))\n",
    "    s = sum(vector)/len(vector)\n",
    "    return [i/s for i in vector]\n",
    "\n",
    "def do_prediction(output = [0, 1]):\n",
    "    bias = get_bias()\n",
    "    params = get_params()\n",
    "    struct = get_structure()\n",
    "    layers = [[0]*i for i in struct]\n",
    "    layers[-1] = output\n",
    "    steps = 2*(len(layers)-2) +1 # 2 par couche cachee + 1 pour la derniere\n",
    "    i = 0\n",
    "    while i < (steps-1)/2:\n",
    "        #print('i', i)\n",
    "        agg = aggregate_inv(layers[-(i+1)], params[-(i+1)])\n",
    "        # print('agg', len(agg))\n",
    "        # print('bias', len(bias), len(bias[-(i+1)]), len(bias[-(i+2)]))\n",
    "        layers[-(i+2)] = [relu_inv(agg[j], bias[-(i+2)][j]) for j in range(len(agg))]\n",
    "        i += 1\n",
    "    else:\n",
    "        layers[0] = aggregate_inv(layers[1], params[0])\n",
    "    # vecteur 4 par 4\n",
    "    vec = []\n",
    "    i = 0\n",
    "    while i < len(layers[0]):\n",
    "        vec.append(layers[0][i:i+4])\n",
    "        i += 4\n",
    "    else:\n",
    "        return vec\n",
    "    return layers[0]\n",
    "\n",
    "def clarify(vec, hidden=-1, other=0):\n",
    "    # Retourne un vecteur correspondants aux lettres\n",
    "    propre = []\n",
    "    for i in vec:\n",
    "        propre.append([0, 0, 0, 0])\n",
    "        if max(i) > hidden:\n",
    "            propre[-1][i.index(max(i))] = 1\n",
    "        else:\n",
    "            propre[-1] = [other]*4\n",
    "    return propre\n",
    "\n",
    "def clarify2(vec):\n",
    "    new = []\n",
    "    for i in vec:\n",
    "        m = abs(min(i))\n",
    "        n = [m+j for j in i]\n",
    "        m = max(n)\n",
    "        n1 = [j/m for j in n]\n",
    "        new.append(n1)\n",
    "    return new\n",
    "    \n",
    "pred = do_prediction([0,1])\n",
    "# for i in pred:\n",
    "#     print(i)\n",
    "# print(len(do_prediction()))\n",
    "# plt.matshow(clarify2(pred)[0:5]+clarify2(pred)[-5:])\n",
    "plt.figure()\n",
    "plt.matshow(clarify(pred, 0.03, 0))\n",
    "plt.colorbar()\n",
    "plt.show()\n",
    "\n",
    "print(\"Séquences 'prédite' :\", \"\\n\"+vec_to_seq(clarify(pred)))"
   ]
  },
  {
   "cell_type": "code",
   "execution_count": null,
   "metadata": {},
   "outputs": [],
   "source": [
    "# Verification des predictions realisees\n",
    "c = 0 #tot\n",
    "s1 = 0 #non-orf\n",
    "s2 = 0 #orf\n",
    "for i in predictions:\n",
    "    c += 1\n",
    "    if i[0] > i[1]:\n",
    "        s1 += 1\n",
    "    elif i[0] < i[1]:\n",
    "        s2 += 1\n",
    "    else:\n",
    "        print(\"Waow\")\n",
    "print(c, s1, s2)"
   ]
  }
 ],
 "metadata": {
  "kernelspec": {
   "display_name": "Python 3",
   "language": "python",
   "name": "python3"
  },
  "language_info": {
   "codemirror_mode": {
    "name": "ipython",
    "version": 3
   },
   "file_extension": ".py",
   "mimetype": "text/x-python",
   "name": "python",
   "nbconvert_exporter": "python",
   "pygments_lexer": "ipython3",
   "version": "3.7.3"
  }
 },
 "nbformat": 4,
 "nbformat_minor": 2
}
