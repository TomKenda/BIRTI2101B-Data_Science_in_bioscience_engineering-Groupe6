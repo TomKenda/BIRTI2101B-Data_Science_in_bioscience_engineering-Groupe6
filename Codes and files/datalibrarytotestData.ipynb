{
 "cells": [
  {
   "cell_type": "code",
   "execution_count": 13,
   "metadata": {},
   "outputs": [],
   "source": [
    "import random\n",
    "import numpy as np\n",
    "\n",
    "def codonindextovector(i):\n",
    "    # takes value from 0 to 4, returns Vector with 1 at corresponding index\n",
    "    # ex 2 -> [0, 1, 0, 0]\n",
    "    # ex 0 -> [0, 0, 0, 0]\n",
    "    out = [0,0,0,0]\n",
    "    if i != 0:\n",
    "        out[i-1] = 1\n",
    "    return out\n",
    "\n",
    "\n",
    "def DataToNumpyArray(filename):\n",
    "    #Takes Data library and converts it to Tensorflow ready numpy array\n",
    "    #Le même code que l'autre fichier mais tout dans une fonction\n",
    "    \n",
    "    file = open(filename,\"r\")\n",
    "    dataVec = file.readlines()\n",
    "    file.close()\n",
    "\n",
    "    random.seed(1)\n",
    "    random.shuffle(dataVec)\n",
    "    \n",
    "    Sequences = []\n",
    "    Labels= []\n",
    "    for line in dataVec:\n",
    "        l = line.strip().split(\",\")\n",
    "        Sequences.append(l[0])\n",
    "        Labels.append(l[1])\n",
    "    \n",
    "    numSequences = []\n",
    "    for seq in Sequences:\n",
    "        new = []\n",
    "        for letter in seq:\n",
    "            if letter == \"A\":\n",
    "                new.append(1)\n",
    "            elif letter == \"T\":\n",
    "                new.append(2)\n",
    "            elif letter == \"G\":\n",
    "                new.append(3)\n",
    "            elif letter == \"C\":\n",
    "                new.append(4)\n",
    "        numSequences.append(new)\n",
    "        \n",
    "    numLabels = []\n",
    "    for label in Labels:\n",
    "        if label == \"gene\":\n",
    "            numLabels.append(1)\n",
    "        elif label == \"noise\":\n",
    "            numLabels.append(0)\n",
    "    \n",
    "    newList = []\n",
    "    for seq in numSequences:\n",
    "        newseq = []\n",
    "        for i in range(200):\n",
    "            if i < len(seq):\n",
    "                newseq.append(codonindextovector(seq[i]))\n",
    "            elif i >= len (seq):\n",
    "                newseq.append(codonindextovector(0))\n",
    "        newList.append(newseq)\n",
    "    \n",
    "    SequenceArray = np.array(newList).reshape(-1,200,4)\n",
    "    LabelsArray = np.array(numLabels)\n",
    "    \n",
    "    return SequenceArray, LabelsArray"
   ]
  },
  {
   "cell_type": "code",
   "execution_count": 14,
   "metadata": {},
   "outputs": [],
   "source": [
    "TrainSequences, TrainLabels = DataToNumpyArray(\"dataTrain.txt\")\n",
    "TestSequences, TestLabels = DataToNumpyArray(\"dataTest.txt\")"
   ]
  },
  {
   "cell_type": "code",
   "execution_count": 15,
   "metadata": {},
   "outputs": [
    {
     "name": "stdout",
     "output_type": "stream",
     "text": [
      "Train on 11173 samples\n",
      "Epoch 1/10\n",
      "11173/11173 [==============================] - 2s 161us/sample - loss: 0.2894 - accuracy: 0.8923\n",
      "Epoch 2/10\n",
      "11173/11173 [==============================] - 1s 106us/sample - loss: 0.2213 - accuracy: 0.9172\n",
      "Epoch 3/10\n",
      "11173/11173 [==============================] - 1s 104us/sample - loss: 0.1736 - accuracy: 0.9346\n",
      "Epoch 4/10\n",
      "11173/11173 [==============================] - 1s 106us/sample - loss: 0.1153 - accuracy: 0.9593\n",
      "Epoch 5/10\n",
      "11173/11173 [==============================] - 1s 112us/sample - loss: 0.0824 - accuracy: 0.9744\n",
      "Epoch 6/10\n",
      "11173/11173 [==============================] - 2s 135us/sample - loss: 0.0599 - accuracy: 0.9827 - loss: 0.0559 \n",
      "Epoch 7/10\n",
      "11173/11173 [==============================] - 1s 125us/sample - loss: 0.0498 - accuracy: 0.9850\n",
      "Epoch 8/10\n",
      "11173/11173 [==============================] - 1s 104us/sample - loss: 0.0435 - accuracy: 0.9855\n",
      "Epoch 9/10\n",
      "11173/11173 [==============================] - 1s 106us/sample - loss: 0.0372 - accuracy: 0.9860\n",
      "Epoch 10/10\n",
      "11173/11173 [==============================] - 1s 104us/sample - loss: 0.0270 - accuracy: 0.9872\n"
     ]
    },
    {
     "data": {
      "text/plain": [
       "<tensorflow.python.keras.callbacks.History at 0x23b23c6d688>"
      ]
     },
     "execution_count": 15,
     "metadata": {},
     "output_type": "execute_result"
    }
   ],
   "source": [
    "import tensorflow as tf\n",
    "\n",
    "model = tf.keras.models.Sequential()\n",
    "model.add(tf.keras.layers.Flatten())\n",
    "model.add(tf.keras.layers.Dense(128, activation=tf.nn.relu))\n",
    "model.add(tf.keras.layers.Dense(128, activation=tf.nn.relu))\n",
    "model.add(tf.keras.layers.Dense(2, activation=tf.nn.softmax))\n",
    "\n",
    "model.compile(optimizer='adam',loss='sparse_categorical_crossentropy',metrics=['accuracy'])\n",
    "model.fit(TrainSequences, TrainLabels, epochs=10)\n"
   ]
  },
  {
   "cell_type": "code",
   "execution_count": 16,
   "metadata": {},
   "outputs": [
    {
     "name": "stdout",
     "output_type": "stream",
     "text": [
      "Test loss: 0.322737905680319\n",
      "Test accuracy: 0.9453552\n"
     ]
    }
   ],
   "source": [
    "score = model.evaluate(TestSequences,TestLabels, verbose = 0) \n",
    "\n",
    "print('Test loss:', score[0]) \n",
    "print('Test accuracy:', score[1])"
   ]
  },
  {
   "cell_type": "code",
   "execution_count": 8,
   "metadata": {},
   "outputs": [
    {
     "ename": "NameError",
     "evalue": "name 'y_test' is not defined",
     "output_type": "error",
     "traceback": [
      "\u001b[1;31m---------------------------------------------------------------------------\u001b[0m",
      "\u001b[1;31mNameError\u001b[0m                                 Traceback (most recent call last)",
      "\u001b[1;32m<ipython-input-8-7d2a8ed273b8>\u001b[0m in \u001b[0;36m<module>\u001b[1;34m\u001b[0m\n\u001b[0;32m      1\u001b[0m \u001b[0mpred\u001b[0m \u001b[1;33m=\u001b[0m \u001b[0mmodel\u001b[0m\u001b[1;33m.\u001b[0m\u001b[0mpredict\u001b[0m\u001b[1;33m(\u001b[0m\u001b[0mTestSequences\u001b[0m\u001b[1;33m[\u001b[0m\u001b[1;33m:\u001b[0m\u001b[1;36m5\u001b[0m\u001b[1;33m]\u001b[0m\u001b[1;33m)\u001b[0m\u001b[1;33m\u001b[0m\u001b[1;33m\u001b[0m\u001b[0m\n\u001b[0;32m      2\u001b[0m \u001b[0mpred\u001b[0m \u001b[1;33m=\u001b[0m \u001b[0mnp\u001b[0m\u001b[1;33m.\u001b[0m\u001b[0margmax\u001b[0m\u001b[1;33m(\u001b[0m\u001b[0mpred\u001b[0m\u001b[1;33m,\u001b[0m \u001b[0maxis\u001b[0m \u001b[1;33m=\u001b[0m \u001b[1;36m1\u001b[0m\u001b[1;33m)\u001b[0m\u001b[1;33m[\u001b[0m\u001b[1;33m:\u001b[0m\u001b[1;36m5\u001b[0m\u001b[1;33m]\u001b[0m\u001b[1;33m\u001b[0m\u001b[1;33m\u001b[0m\u001b[0m\n\u001b[1;32m----> 3\u001b[1;33m \u001b[0mlabel\u001b[0m \u001b[1;33m=\u001b[0m \u001b[0mnp\u001b[0m\u001b[1;33m.\u001b[0m\u001b[0margmax\u001b[0m\u001b[1;33m(\u001b[0m\u001b[0my_test\u001b[0m\u001b[1;33m,\u001b[0m\u001b[0maxis\u001b[0m \u001b[1;33m=\u001b[0m \u001b[1;36m1\u001b[0m\u001b[1;33m)\u001b[0m\u001b[1;33m[\u001b[0m\u001b[1;33m:\u001b[0m\u001b[1;36m5\u001b[0m\u001b[1;33m]\u001b[0m\u001b[1;33m\u001b[0m\u001b[1;33m\u001b[0m\u001b[0m\n\u001b[0m\u001b[0;32m      4\u001b[0m \u001b[1;33m\u001b[0m\u001b[0m\n\u001b[0;32m      5\u001b[0m \u001b[0mprint\u001b[0m\u001b[1;33m(\u001b[0m\u001b[0mpred\u001b[0m\u001b[1;33m)\u001b[0m\u001b[1;33m\u001b[0m\u001b[1;33m\u001b[0m\u001b[0m\n",
      "\u001b[1;31mNameError\u001b[0m: name 'y_test' is not defined"
     ]
    }
   ],
   "source": [
    "pred = model.predict(TestSequences[:5]) \n",
    "pred = np.argmax(pred, axis = 1)[:5] \n",
    "label = np.argmax(y_test,axis = 1)[:5] \n",
    "\n",
    "print(pred) \n",
    "print(label)"
   ]
  },
  {
   "cell_type": "code",
   "execution_count": null,
   "metadata": {},
   "outputs": [],
   "source": [
    "import matplotlib.pyplot as plt\n",
    "\n",
    "plt.imshow(TestSequences[0][0:50])"
   ]
  },
  {
   "cell_type": "code",
   "execution_count": null,
   "metadata": {},
   "outputs": [],
   "source": []
  }
 ],
 "metadata": {
  "kernelspec": {
   "display_name": "Python 3.7 (tensorflowCPU)",
   "language": "python",
   "name": "tensorflow"
  },
  "language_info": {
   "codemirror_mode": {
    "name": "ipython",
    "version": 3
   },
   "file_extension": ".py",
   "mimetype": "text/x-python",
   "name": "python",
   "nbconvert_exporter": "python",
   "pygments_lexer": "ipython3",
   "version": "3.7.9"
  }
 },
 "nbformat": 4,
 "nbformat_minor": 4
}
